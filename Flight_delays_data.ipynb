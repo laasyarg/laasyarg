{
  "cells": [
    {
      "cell_type": "markdown",
      "metadata": {
        "id": "view-in-github",
        "colab_type": "text"
      },
      "source": [
        "<a href=\"https://colab.research.google.com/github/laasyarg/laasyarg/blob/main/Flight_delays_data.ipynb\" target=\"_parent\"><img src=\"https://colab.research.google.com/assets/colab-badge.svg\" alt=\"Open In Colab\"/></a>"
      ]
    },
    {
      "cell_type": "code",
      "execution_count": null,
      "metadata": {
        "id": "tBFBAUEEyOed",
        "outputId": "f2b9fea2-882d-4286-ca87-ecc53ea44ac7"
      },
      "outputs": [
        {
          "name": "stdout",
          "output_type": "stream",
          "text": [
            "Defaulting to user installation because normal site-packages is not writeable\n",
            "Requirement already satisfied: dmba in c:\\users\\gr0386\\appdata\\roaming\\python\\python311\\site-packages (0.2.4)\n",
            "Requirement already satisfied: graphviz in c:\\users\\gr0386\\appdata\\roaming\\python\\python311\\site-packages (from dmba) (0.20.1)\n",
            "Requirement already satisfied: matplotlib in c:\\program files\\anaconda3\\lib\\site-packages (from dmba) (3.7.2)\n",
            "Requirement already satisfied: numpy in c:\\program files\\anaconda3\\lib\\site-packages (from dmba) (1.24.3)\n",
            "Requirement already satisfied: pandas in c:\\program files\\anaconda3\\lib\\site-packages (from dmba) (2.0.3)\n",
            "Requirement already satisfied: scikit-learn in c:\\users\\gr0386\\appdata\\roaming\\python\\python311\\site-packages (from dmba) (1.4.1.post1)\n",
            "Requirement already satisfied: scipy in c:\\program files\\anaconda3\\lib\\site-packages (from dmba) (1.11.1)\n",
            "Requirement already satisfied: contourpy>=1.0.1 in c:\\program files\\anaconda3\\lib\\site-packages (from matplotlib->dmba) (1.0.5)\n",
            "Requirement already satisfied: cycler>=0.10 in c:\\program files\\anaconda3\\lib\\site-packages (from matplotlib->dmba) (0.11.0)\n",
            "Requirement already satisfied: fonttools>=4.22.0 in c:\\program files\\anaconda3\\lib\\site-packages (from matplotlib->dmba) (4.25.0)\n",
            "Requirement already satisfied: kiwisolver>=1.0.1 in c:\\program files\\anaconda3\\lib\\site-packages (from matplotlib->dmba) (1.4.4)\n",
            "Requirement already satisfied: packaging>=20.0 in c:\\program files\\anaconda3\\lib\\site-packages (from matplotlib->dmba) (23.1)\n",
            "Requirement already satisfied: pillow>=6.2.0 in c:\\program files\\anaconda3\\lib\\site-packages (from matplotlib->dmba) (9.4.0)\n",
            "Requirement already satisfied: pyparsing<3.1,>=2.3.1 in c:\\program files\\anaconda3\\lib\\site-packages (from matplotlib->dmba) (3.0.9)\n",
            "Requirement already satisfied: python-dateutil>=2.7 in c:\\program files\\anaconda3\\lib\\site-packages (from matplotlib->dmba) (2.8.2)\n",
            "Requirement already satisfied: pytz>=2020.1 in c:\\program files\\anaconda3\\lib\\site-packages (from pandas->dmba) (2023.3.post1)\n",
            "Requirement already satisfied: tzdata>=2022.1 in c:\\program files\\anaconda3\\lib\\site-packages (from pandas->dmba) (2023.3)\n",
            "Requirement already satisfied: joblib>=1.2.0 in c:\\program files\\anaconda3\\lib\\site-packages (from scikit-learn->dmba) (1.2.0)\n",
            "Requirement already satisfied: threadpoolctl>=2.0.0 in c:\\program files\\anaconda3\\lib\\site-packages (from scikit-learn->dmba) (2.2.0)\n",
            "Requirement already satisfied: six>=1.5 in c:\\program files\\anaconda3\\lib\\site-packages (from python-dateutil>=2.7->matplotlib->dmba) (1.16.0)\n"
          ]
        }
      ],
      "source": [
        "#GLR65\n",
        "!pip install dmba"
      ]
    },
    {
      "cell_type": "code",
      "execution_count": null,
      "metadata": {
        "id": "6qnQOW5EyOee"
      },
      "outputs": [],
      "source": [
        "#GLR65\n",
        "from pathlib import Path\n",
        "\n",
        "import pandas as pd\n",
        "from sklearn.model_selection import train_test_split\n",
        "from sklearn.naive_bayes import MultinomialNB\n",
        "import matplotlib.pylab as plt\n",
        "\n",
        "import dmba\n",
        "from dmba import classificationSummary, gainsChart\n",
        "\n",
        "%matplotlib inline"
      ]
    },
    {
      "cell_type": "code",
      "execution_count": null,
      "metadata": {
        "id": "NhETnefGyOef",
        "outputId": "798fad87-ba5a-4c53-f5f8-7a5868bf86e4"
      },
      "outputs": [
        {
          "data": {
            "text/html": [
              "<div>\n",
              "<style scoped>\n",
              "    .dataframe tbody tr th:only-of-type {\n",
              "        vertical-align: middle;\n",
              "    }\n",
              "\n",
              "    .dataframe tbody tr th {\n",
              "        vertical-align: top;\n",
              "    }\n",
              "\n",
              "    .dataframe thead th {\n",
              "        text-align: right;\n",
              "    }\n",
              "</style>\n",
              "<table border=\"1\" class=\"dataframe\">\n",
              "  <thead>\n",
              "    <tr style=\"text-align: right;\">\n",
              "      <th></th>\n",
              "      <th>CRS_DEP_TIME</th>\n",
              "      <th>CARRIER</th>\n",
              "      <th>DEP_TIME</th>\n",
              "      <th>DEST</th>\n",
              "      <th>DISTANCE</th>\n",
              "      <th>FL_DATE</th>\n",
              "      <th>FL_NUM</th>\n",
              "      <th>ORIGIN</th>\n",
              "      <th>Weather</th>\n",
              "      <th>DAY_WEEK</th>\n",
              "      <th>DAY_OF_MONTH</th>\n",
              "      <th>TAIL_NUM</th>\n",
              "      <th>Flight Status</th>\n",
              "    </tr>\n",
              "  </thead>\n",
              "  <tbody>\n",
              "    <tr>\n",
              "      <th>0</th>\n",
              "      <td>1455</td>\n",
              "      <td>OH</td>\n",
              "      <td>1455</td>\n",
              "      <td>JFK</td>\n",
              "      <td>184</td>\n",
              "      <td>01/01/2004</td>\n",
              "      <td>5935</td>\n",
              "      <td>BWI</td>\n",
              "      <td>0</td>\n",
              "      <td>4</td>\n",
              "      <td>1</td>\n",
              "      <td>N940CA</td>\n",
              "      <td>ontime</td>\n",
              "    </tr>\n",
              "    <tr>\n",
              "      <th>1</th>\n",
              "      <td>1640</td>\n",
              "      <td>DH</td>\n",
              "      <td>1640</td>\n",
              "      <td>JFK</td>\n",
              "      <td>213</td>\n",
              "      <td>01/01/2004</td>\n",
              "      <td>6155</td>\n",
              "      <td>DCA</td>\n",
              "      <td>0</td>\n",
              "      <td>4</td>\n",
              "      <td>1</td>\n",
              "      <td>N405FJ</td>\n",
              "      <td>ontime</td>\n",
              "    </tr>\n",
              "    <tr>\n",
              "      <th>2</th>\n",
              "      <td>1245</td>\n",
              "      <td>DH</td>\n",
              "      <td>1245</td>\n",
              "      <td>LGA</td>\n",
              "      <td>229</td>\n",
              "      <td>01/01/2004</td>\n",
              "      <td>7208</td>\n",
              "      <td>IAD</td>\n",
              "      <td>0</td>\n",
              "      <td>4</td>\n",
              "      <td>1</td>\n",
              "      <td>N695BR</td>\n",
              "      <td>ontime</td>\n",
              "    </tr>\n",
              "    <tr>\n",
              "      <th>3</th>\n",
              "      <td>1715</td>\n",
              "      <td>DH</td>\n",
              "      <td>1709</td>\n",
              "      <td>LGA</td>\n",
              "      <td>229</td>\n",
              "      <td>01/01/2004</td>\n",
              "      <td>7215</td>\n",
              "      <td>IAD</td>\n",
              "      <td>0</td>\n",
              "      <td>4</td>\n",
              "      <td>1</td>\n",
              "      <td>N662BR</td>\n",
              "      <td>ontime</td>\n",
              "    </tr>\n",
              "    <tr>\n",
              "      <th>4</th>\n",
              "      <td>1039</td>\n",
              "      <td>DH</td>\n",
              "      <td>1035</td>\n",
              "      <td>LGA</td>\n",
              "      <td>229</td>\n",
              "      <td>01/01/2004</td>\n",
              "      <td>7792</td>\n",
              "      <td>IAD</td>\n",
              "      <td>0</td>\n",
              "      <td>4</td>\n",
              "      <td>1</td>\n",
              "      <td>N698BR</td>\n",
              "      <td>ontime</td>\n",
              "    </tr>\n",
              "  </tbody>\n",
              "</table>\n",
              "</div>"
            ],
            "text/plain": [
              "   CRS_DEP_TIME CARRIER  DEP_TIME DEST  DISTANCE     FL_DATE  FL_NUM ORIGIN  \\\n",
              "0          1455      OH      1455  JFK       184  01/01/2004    5935    BWI   \n",
              "1          1640      DH      1640  JFK       213  01/01/2004    6155    DCA   \n",
              "2          1245      DH      1245  LGA       229  01/01/2004    7208    IAD   \n",
              "3          1715      DH      1709  LGA       229  01/01/2004    7215    IAD   \n",
              "4          1039      DH      1035  LGA       229  01/01/2004    7792    IAD   \n",
              "\n",
              "   Weather  DAY_WEEK  DAY_OF_MONTH TAIL_NUM Flight Status  \n",
              "0        0         4             1   N940CA        ontime  \n",
              "1        0         4             1   N405FJ        ontime  \n",
              "2        0         4             1   N695BR        ontime  \n",
              "3        0         4             1   N662BR        ontime  \n",
              "4        0         4             1   N698BR        ontime  "
            ]
          },
          "execution_count": 6,
          "metadata": {},
          "output_type": "execute_result"
        }
      ],
      "source": [
        "#GLR65\n",
        "delays_dfGLR65 = dmba.load_data('FlightDelays.csv')\n",
        "delays_dfGLR65.head()"
      ]
    },
    {
      "cell_type": "code",
      "execution_count": null,
      "metadata": {
        "id": "MPguQJd5yOef"
      },
      "outputs": [],
      "source": [
        "#GLR65\n",
        "delays_dfGLR65 = dmba.load_data('FlightDelays.csv')\n",
        "\n",
        "# convert to categorical\n",
        "delays_dfGLR65.DAY_WEEK = delays_dfGLR65.DAY_WEEK.astype('category')\n",
        "delays_dfGLR65['Flight Status'] = delays_dfGLR65['Flight Status'].astype('category')\n",
        "\n",
        "# create hourly bins departure time\n",
        "delays_dfGLR65.CRS_DEP_TIME = [round(t / 100) for t in delays_dfGLR65.CRS_DEP_TIME]\n",
        "delays_dfGLR65.CRS_DEP_TIME = delays_dfGLR65.CRS_DEP_TIME.astype('category')\n",
        "\n",
        "predictors = ['DAY_WEEK', 'CRS_DEP_TIME', 'ORIGIN', 'DEST', 'CARRIER']\n",
        "outcome = 'Flight Status'\n",
        "\n",
        "X = pd.get_dummies(delays_dfGLR65[predictors])\n",
        "y = delays_dfGLR65['Flight Status']\n",
        "classes = list(y.cat.categories)\n",
        "\n",
        "# split into training and validation\n",
        "X_train, X_valid, y_train, y_valid = train_test_split(X, y, test_size=0.40, random_state=1)\n",
        "\n",
        "# run naive Bayes\n",
        "delays_nb = MultinomialNB(alpha=0.01)\n",
        "delays_nb.fit(X_train, y_train)\n",
        "\n",
        "# predict probabilities\n",
        "predProb_train = delays_nb.predict_proba(X_train)\n",
        "predProb_valid = delays_nb.predict_proba(X_valid)\n",
        "\n",
        "# predict class membership\n",
        "y_valid_pred = delays_nb.predict(X_valid)\n",
        "y_train_pred = delays_nb.predict(X_train)"
      ]
    },
    {
      "cell_type": "markdown",
      "metadata": {
        "id": "nyvt113pyOef"
      },
      "source": [
        "\n",
        "First construct a frequency table and then convert it to the propability table"
      ]
    },
    {
      "cell_type": "code",
      "execution_count": null,
      "metadata": {
        "id": "cXaXPoAdyOef",
        "outputId": "de615f3e-0267-4235-8c2d-e47bfe446345"
      },
      "outputs": [
        {
          "name": "stdout",
          "output_type": "stream",
          "text": [
            "Flight Status\n",
            "ontime     0.8023\n",
            "delayed    0.1977\n",
            "Name: count, dtype: float64\n",
            "\n",
            "DAY_WEEK            1       2       3       4       5      6       7\n",
            "Flight Status                                                       \n",
            "delayed        0.1916  0.1494  0.1149  0.1264  0.1877  0.069  0.1609\n",
            "ontime         0.1246  0.1416  0.1445  0.1794  0.1690  0.136  0.1048\n",
            "\n",
            "CRS_DEP_TIME        6       7       8       9      10      11      12      13  \\\n",
            "Flight Status                                                                   \n",
            "delayed        0.0345  0.0536  0.0651  0.0192  0.0307  0.0115  0.0498  0.0460   \n",
            "ontime         0.0623  0.0633  0.0850  0.0567  0.0519  0.0340  0.0661  0.0746   \n",
            "\n",
            "CRS_DEP_TIME       14      15      16      17      18      19      20      21  \n",
            "Flight Status                                                                  \n",
            "delayed        0.0383  0.2031  0.0728  0.1533  0.0192  0.0996  0.0153  0.0881  \n",
            "ontime         0.0576  0.1171  0.0774  0.1001  0.0349  0.0397  0.0264  0.0529  \n",
            "\n",
            "ORIGIN            BWI     DCA     IAD\n",
            "Flight Status                        \n",
            "delayed        0.0805  0.5211  0.3985\n",
            "ontime         0.0604  0.6478  0.2918\n",
            "\n",
            "DEST              EWR     JFK     LGA\n",
            "Flight Status                        \n",
            "delayed        0.3793  0.1992  0.4215\n",
            "ontime         0.2663  0.1558  0.5779\n",
            "\n",
            "CARRIER            CO      DH      DL      MQ      OH      RU      UA      US\n",
            "Flight Status                                                                \n",
            "delayed        0.0575  0.3142  0.0958  0.2222  0.0077  0.2184  0.0153  0.0690\n",
            "ontime         0.0349  0.2295  0.2040  0.1171  0.0104  0.1690  0.0170  0.2181\n",
            "\n"
          ]
        }
      ],
      "source": [
        "#GLR65\n",
        "# split the original data frame into a train and test using the same random_state\n",
        "train_dfGLR65, valid_dfGLR65 = train_test_split(delays_dfGLR65, test_size=0.4, random_state=1)\n",
        "\n",
        "pd.set_option('display.precision', 4)\n",
        "# probability of flight status\n",
        "print(train_dfGLR65['Flight Status'].value_counts() / len(train_dfGLR65))\n",
        "print()\n",
        "\n",
        "for predictor in predictors:\n",
        "    # construct the frequency table\n",
        "    df = train_dfGLR65[['Flight Status', predictor]]\n",
        "    freqTable = df.pivot_table(index='Flight Status', columns=predictor, aggfunc=len)\n",
        "\n",
        "    # divide each row by the sum of the row to get conditional probabilities\n",
        "    propTable = freqTable.apply(lambda x: x / sum(x), axis=1)\n",
        "    print(propTable)\n",
        "    print()\n",
        "pd.reset_option('display.precision')"
      ]
    },
    {
      "cell_type": "code",
      "execution_count": null,
      "metadata": {
        "id": "CNnc2KnryOef",
        "outputId": "586f733b-83eb-4123-851d-fbdfb333eda3"
      },
      "outputs": [
        {
          "name": "stdout",
          "output_type": "stream",
          "text": [
            "P_hat_delayed ~  2.0548742506526157e-05\n",
            "P_hat_ontime ~  0.00033326464123921066\n",
            "P(delayed|...) =  0.05807791183301656\n",
            "P(ontime|...) =  0.9419220881669834\n"
          ]
        }
      ],
      "source": [
        "#GLR65\n",
        "# P(delayed | Carrier = DL, Day_Week = 7, Dep_Time = 10, Dest = LGA, Origin = DCA)\n",
        "P_hat_delayed = 0.0958 * 0.1609 * 0.0307 * 0.4215 * 0.5211 * 0.1977\n",
        "# P(ontime | Carrier = DL, Day_Week = 7, Dep_Time = 10, Dest = LGA, Origin = DCA)\n",
        "P_hat_ontime = 0.2040 * 0.1048 * 0.0519 * 0.5779 * 0.6478 * 0.8023\n",
        "print('P_hat_delayed ~ ', P_hat_delayed)\n",
        "print('P_hat_ontime ~ ', P_hat_ontime)\n",
        "\n",
        "print('P(delayed|...) = ', P_hat_delayed / (P_hat_delayed + P_hat_ontime))\n",
        "print('P(ontime|...) = ', P_hat_ontime / (P_hat_delayed + P_hat_ontime))"
      ]
    },
    {
      "cell_type": "code",
      "execution_count": null,
      "metadata": {
        "id": "AzGVZSGuyOef",
        "outputId": "2c8dc266-b03f-4505-e66b-a66d98c506e7"
      },
      "outputs": [
        {
          "name": "stdout",
          "output_type": "stream",
          "text": [
            "      actual predicted         0         1\n",
            "1225  ontime    ontime  0.057989  0.942011\n"
          ]
        }
      ],
      "source": [
        "#GLR65\n",
        "# Subset a specific set\n",
        "df = pd.concat([pd.DataFrame({'actual': y_valid, 'predicted': y_valid_pred}),\n",
        "                pd.DataFrame(predProb_valid, index=y_valid.index)], axis=1)\n",
        "mask = ((X_valid.CARRIER_DL == 1) & (X_valid.DAY_WEEK_7 == 1) & (X_valid.CRS_DEP_TIME_10 == 1) &\n",
        "        (X_valid.DEST_LGA == 1) & (X_valid.ORIGIN_DCA == 1))\n",
        "\n",
        "print(df[mask])"
      ]
    },
    {
      "cell_type": "code",
      "execution_count": null,
      "metadata": {
        "id": "rrlz8fQmyOef",
        "outputId": "8eadd5d2-5611-48b6-b30c-25ed11b33f12"
      },
      "outputs": [
        {
          "name": "stdout",
          "output_type": "stream",
          "text": [
            "Confusion Matrix (Accuracy 0.7955)\n",
            "\n",
            "        Prediction\n",
            " Actual delayed  ontime\n",
            "delayed      52     209\n",
            " ontime      61     998\n",
            "\n",
            "Confusion Matrix (Accuracy 0.7821)\n",
            "\n",
            "        Prediction\n",
            " Actual delayed  ontime\n",
            "delayed      26     141\n",
            " ontime      51     663\n"
          ]
        }
      ],
      "source": [
        "#GLR65\n",
        "classificationSummary(y_train, y_train_pred, class_names=classes)\n",
        "\n",
        "print()\n",
        "\n",
        "classificationSummary(y_valid, y_valid_pred, class_names=classes)"
      ]
    },
    {
      "cell_type": "code",
      "execution_count": null,
      "metadata": {
        "id": "pwcbeu77yOef",
        "outputId": "f1d9923e-a8b8-49c5-877f-510b998fa691"
      },
      "outputs": [
        {
          "data": {
            "image/png": "[encoded data removed]",
            "text/plain": [
              "<Figure size 400x400 with 1 Axes>"
            ]
          },
          "metadata": {},
          "output_type": "display_data"
        }
      ],
      "source": [
        "#GLR65\n",
        "df = pd.DataFrame({'actual': 1 - y_valid.cat.codes, 'prob': predProb_valid[:, 0]})\n",
        "df = df.sort_values(by=['prob'], ascending=False).reset_index(drop=True)\n",
        "\n",
        "fig, ax = plt.subplots()\n",
        "fig.set_size_inches(4, 4)\n",
        "gainsChart(df.actual, ax=ax)\n",
        "\n",
        "plt.tight_layout()\n",
        "plt.show()"
      ]
    },
    {
      "cell_type": "code",
      "execution_count": null,
      "metadata": {
        "id": "9TApgwLVyOeg",
        "outputId": "224c1385-1409-487f-f3b1-2ebb41dee7ad"
      },
      "outputs": [
        {
          "data": {
            "text/plain": [
              "array([[0.03831098, 0.02988425, 0.02298965, 0.02528785, 0.03754491,\n",
              "        0.01379685, 0.03218245, 0.00690226, 0.01073259, 0.01303079,\n",
              "        0.00383799, 0.00613619, 0.00230586, 0.00996652, 0.00920046,\n",
              "        0.00766832, 0.04060918, 0.01456292, 0.03065031, 0.00383799,\n",
              "        0.01992539, 0.00307193, 0.01762719, 0.01609505, 0.10419268,\n",
              "        0.07967856, 0.07584823, 0.03984311, 0.08427496, 0.01149866,\n",
              "        0.0628251 , 0.01915932, 0.04443951, 0.00153979, 0.04367344,\n",
              "        0.00307193, 0.01379685],\n",
              "       [0.02492933, 0.02832852, 0.02889505, 0.03588229, 0.033805  ,\n",
              "        0.02719546, 0.0209636 , 0.01246561, 0.01265445, 0.01699787,\n",
              "        0.01133254, 0.01038832, 0.00680028, 0.01322098, 0.01492058,\n",
              "        0.01152139, 0.02341857, 0.01548711, 0.02001938, 0.00698912,\n",
              "        0.00793335, 0.00528953, 0.01057716, 0.01208792, 0.12954902,\n",
              "        0.05835475, 0.05325596, 0.03116118, 0.11557455, 0.00698912,\n",
              "        0.04589103, 0.04079224, 0.02341857, 0.00207917, 0.033805  ,\n",
              "        0.00340108, 0.0436249 ]])"
            ]
          },
          "execution_count": 15,
          "metadata": {},
          "output_type": "execute_result"
        }
      ],
      "source": [
        "#GLR65\n",
        "import numpy as np\n",
        "np.exp(delays_nb.feature_log_prob_)"
      ]
    },
    {
      "cell_type": "markdown",
      "metadata": {
        "id": "VbdSsMK0yOeg"
      },
      "source": [
        "<span style=\"color:red\">\n",
        "Solve Problem 8.2 on page 215 of your textbook.\n",
        "</span>"
      ]
    },
    {
      "cell_type": "markdown",
      "metadata": {
        "id": "TaLK-WDIyOeg"
      },
      "source": [
        "a.To predict if an accident just reported will purely depend on the involvement of the injury, and data reports in the system."
      ]
    },
    {
      "cell_type": "code",
      "execution_count": null,
      "metadata": {
        "id": "xl_CiraAyOeg",
        "outputId": "6e7174f4-ad6b-4e89-fcd7-d1643a1114fd"
      },
      "outputs": [
        {
          "name": "stdout",
          "output_type": "stream",
          "text": [
            "Prediction based on available data: Yes\n"
          ]
        }
      ],
      "source": [
        "#GLR65\n",
        "import pandas as pd\n",
        "\n",
        "accidents_dfGLR65 = dmba.load_data ('accidentsFull.csv')\n",
        "accidents_dfGLR65.head()\n",
        "\n",
        "# Create a dummy variable 'INJURY' based on 'MAX_SEV_IR'\n",
        "accidents_df['INJURY'] = accidents_df['MAX_SEV_IR'].apply(lambda x: 'Yes' if x in [1, 2] else 'No')\n",
        "\n",
        "# Count occurrences of 'INJURY' values\n",
        "injury_counts = accidents_df['INJURY'].value_counts()\n",
        "\n",
        "# Determine the prediction based on the counts\n",
        "prediction = 'Yes' if injury_counts['Yes'] > injury_counts['No'] else 'No'\n",
        "\n",
        "print(\"Prediction based on available data:\", prediction)\n"
      ]
    },
    {
      "cell_type": "markdown",
      "metadata": {
        "id": "onDVOnNcyOeg"
      },
      "source": [
        "b. selecting first 12 records in the dataset"
      ]
    },
    {
      "cell_type": "code",
      "execution_count": null,
      "metadata": {
        "id": "tFOOycepyOeg",
        "outputId": "4fcaeed2-8651-4eab-da43-ed456e5b32a0"
      },
      "outputs": [
        {
          "name": "stdout",
          "output_type": "stream",
          "text": [
            "Pivot table:\n",
            "INJURY                No  Yes\n",
            "WEATHER_R TRAF_CON_R         \n",
            "1         0            1    2\n",
            "          1            1    0\n",
            "          2            1    0\n",
            "2         0            5    1\n",
            "          1            1    0\n",
            "\n",
            "Exact Bayes conditional probabilities:\n",
            "INJURY                      No       Yes\n",
            "WEATHER_R TRAF_CON_R                    \n",
            "1         0           0.333333  0.666667\n",
            "          1           1.000000  0.000000\n",
            "          2           1.000000  0.000000\n",
            "2         0           0.833333  0.166667\n",
            "          1           1.000000  0.000000\n",
            "\n",
            "Naive Bayes conditional probability for WEATHER_R = 1 and TRAF_CON_R = 1: 0.0\n"
          ]
        }
      ],
      "source": [
        "#GLR65\n",
        "import pandas as pd\n",
        "\n",
        "# Assuming the data is loaded into a DataFrame named accidents_df\n",
        "\n",
        "# Selecting the first 12 records and relevant columns\n",
        "subset_df = accidents_df[['WEATHER_R', 'TRAF_CON_R', 'INJURY']].head(12)\n",
        "\n",
        "# Creating a pivot table\n",
        "pivot_table = pd.pivot_table(subset_df, values=None, index=['WEATHER_R', 'TRAF_CON_R'], columns=['INJURY'], aggfunc='size', fill_value=0)\n",
        "\n",
        "print(\"Pivot table:\")\n",
        "print(pivot_table)\n",
        "\n",
        "# Compute the exact Bayes conditional probabilities\n",
        "exact_bayes_probabilities = pivot_table.div(pivot_table.sum(axis=1), axis=0)\n",
        "print(\"\\nExact Bayes conditional probabilities:\")\n",
        "print(exact_bayes_probabilities)\n",
        "\n",
        "# Manually compute the naive Bayes conditional probability for a specific combination\n",
        "# Let's take WEATHER_R = 1 and TRAF_CON_R = 1\n",
        "specific_combination = (1, 1)\n",
        "naive_bayes_probability = pivot_table.loc[specific_combination, 'Yes'] / pivot_table.loc[specific_combination].sum()\n",
        "print(\"\\nNaive Bayes conditional probability for WEATHER_R = 1 and TRAF_CON_R = 1:\", naive_bayes_probability)\n"
      ]
    },
    {
      "cell_type": "markdown",
      "metadata": {
        "id": "Iq17UIn8yOeh"
      },
      "source": [
        "c. i.  Based on the information provided, predictors that can be included in the analysis without information or initial reports about the accident itself are:\n",
        "- Location characteristics\n",
        "- Traffic situations\n",
        "- Weather conditions"
      ]
    },
    {
      "cell_type": "markdown",
      "metadata": {
        "id": "H9h8WDbRyOeh"
      },
      "source": [
        "ii. Running naive bayes classifier"
      ]
    },
    {
      "cell_type": "code",
      "execution_count": null,
      "metadata": {
        "id": "tZZcKURzyOeh",
        "outputId": "35947a37-3d67-4908-a77f-5c2f7e458a37"
      },
      "outputs": [
        {
          "name": "stdout",
          "output_type": "stream",
          "text": [
            "Confusion matrix:\n",
            "[[1290 6983]\n",
            " [1107 7494]]\n"
          ]
        }
      ],
      "source": [
        "#GLR65\n",
        "from sklearn.model_selection import train_test_split\n",
        "from sklearn.naive_bayes import CategoricalNB\n",
        "from sklearn.metrics import confusion_matrix\n",
        "\n",
        "\n",
        "X = accidents_dfGLR65[['WEATHER_R', 'TRAF_CON_R']]\n",
        "y = accidents_df['INJURY']\n",
        "\n",
        "# Split the data into training and validation sets (60% training, 40% validation)\n",
        "X_train, X_val, y_train, y_val = train_test_split(X, y, test_size=0.4, random_state=42)\n",
        "\n",
        "# Initialize and train the naive Bayes classifier\n",
        "nb_classifier = CategoricalNB()\n",
        "nb_classifier.fit(X_train, y_train)\n",
        "\n",
        "# Predict on the validation set\n",
        "y_pred = nb_classifier.predict(X_val)\n",
        "\n",
        "# Calculate the confusion matrix\n",
        "conf_matrix = confusion_matrix(y_val, y_pred)\n",
        "print(\"Confusion matrix:\")\n",
        "print(conf_matrix)\n",
        "\n"
      ]
    },
    {
      "cell_type": "markdown",
      "metadata": {
        "id": "4JZl1dJXyOeh"
      },
      "source": [
        "iii. The overall error for the validation set is obtained by comparing predicted values with real values in response of variable      through which confusion matrix is generated."
      ]
    },
    {
      "cell_type": "markdown",
      "metadata": {
        "id": "vzOS95xyyOeh"
      },
      "source": [
        "iv. The total error for the validation set can be estimated by adding the number of false positives and false negatives and dividing by the total number of observations."
      ]
    },
    {
      "cell_type": "markdown",
      "metadata": {
        "id": "TEDigBPayOeh"
      },
      "source": [
        "v. We get a probability of zero, as there might not be any instances in the data set where accidents occur with a specific speed limit,  and no injury"
      ]
    }
  ],
  "metadata": {
    "kernelspec": {
      "display_name": "Python 3 (ipykernel)",
      "language": "python",
      "name": "python3"
    },
    "language_info": {
      "codemirror_mode": {
        "name": "ipython",
        "version": 3
      },
      "file_extension": ".py",
      "mimetype": "text/x-python",
      "name": "python",
      "nbconvert_exporter": "python",
      "pygments_lexer": "ipython3",
      "version": "3.11.5"
    },
    "colab": {
      "provenance": [],
      "include_colab_link": true
    }
  },
  "nbformat": 4,
  "nbformat_minor": 0
}